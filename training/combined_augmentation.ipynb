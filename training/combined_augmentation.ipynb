{
  "nbformat": 4,
  "nbformat_minor": 0,
  "metadata": {
    "colab": {
      "provenance": [],
      "gpuType": "A100"
    },
    "kernelspec": {
      "name": "python3",
      "display_name": "Python 3"
    },
    "language_info": {
      "name": "python"
    },
    "accelerator": "GPU"
  },
  "cells": [
    {
      "cell_type": "code",
      "execution_count": null,
      "metadata": {
        "id": "25Gbr-lr3CkI",
        "outputId": "94c30f23-6269-4c0f-e287-baed610e55e6",
        "colab": {
          "base_uri": "https://localhost:8080/"
        }
      },
      "outputs": [
        {
          "output_type": "stream",
          "name": "stdout",
          "text": [
            "Requirement already satisfied: torch in /usr/local/lib/python3.10/dist-packages (2.1.0+cu118)\n",
            "Requirement already satisfied: torchvision in /usr/local/lib/python3.10/dist-packages (0.16.0+cu118)\n",
            "Requirement already satisfied: filelock in /usr/local/lib/python3.10/dist-packages (from torch) (3.12.4)\n",
            "Requirement already satisfied: typing-extensions in /usr/local/lib/python3.10/dist-packages (from torch) (4.5.0)\n",
            "Requirement already satisfied: sympy in /usr/local/lib/python3.10/dist-packages (from torch) (1.12)\n",
            "Requirement already satisfied: networkx in /usr/local/lib/python3.10/dist-packages (from torch) (3.2)\n",
            "Requirement already satisfied: jinja2 in /usr/local/lib/python3.10/dist-packages (from torch) (3.1.2)\n",
            "Requirement already satisfied: fsspec in /usr/local/lib/python3.10/dist-packages (from torch) (2023.6.0)\n",
            "Requirement already satisfied: triton==2.1.0 in /usr/local/lib/python3.10/dist-packages (from torch) (2.1.0)\n",
            "Requirement already satisfied: numpy in /usr/local/lib/python3.10/dist-packages (from torchvision) (1.23.5)\n",
            "Requirement already satisfied: requests in /usr/local/lib/python3.10/dist-packages (from torchvision) (2.31.0)\n",
            "Requirement already satisfied: pillow!=8.3.*,>=5.3.0 in /usr/local/lib/python3.10/dist-packages (from torchvision) (9.4.0)\n",
            "Requirement already satisfied: MarkupSafe>=2.0 in /usr/local/lib/python3.10/dist-packages (from jinja2->torch) (2.1.3)\n",
            "Requirement already satisfied: charset-normalizer<4,>=2 in /usr/local/lib/python3.10/dist-packages (from requests->torchvision) (3.3.1)\n",
            "Requirement already satisfied: idna<4,>=2.5 in /usr/local/lib/python3.10/dist-packages (from requests->torchvision) (3.4)\n",
            "Requirement already satisfied: urllib3<3,>=1.21.1 in /usr/local/lib/python3.10/dist-packages (from requests->torchvision) (2.0.7)\n",
            "Requirement already satisfied: certifi>=2017.4.17 in /usr/local/lib/python3.10/dist-packages (from requests->torchvision) (2023.7.22)\n",
            "Requirement already satisfied: mpmath>=0.19 in /usr/local/lib/python3.10/dist-packages (from sympy->torch) (1.3.0)\n"
          ]
        }
      ],
      "source": [
        "!pip3 install torch torchvision"
      ]
    },
    {
      "cell_type": "code",
      "source": [
        "import torch\n",
        "import torchvision"
      ],
      "metadata": {
        "id": "mIm3DSDV3HuB"
      },
      "execution_count": 1,
      "outputs": []
    },
    {
      "cell_type": "code",
      "source": [
        "ls"
      ],
      "metadata": {
        "colab": {
          "base_uri": "https://localhost:8080/"
        },
        "id": "xFPOyDh_p2gQ",
        "outputId": "d90a409b-b7a1-47ae-9504-c5359f964cf0"
      },
      "execution_count": null,
      "outputs": [
        {
          "output_type": "stream",
          "name": "stdout",
          "text": [
            "\u001b[0m\u001b[01;34msample_data\u001b[0m/\n"
          ]
        }
      ]
    },
    {
      "cell_type": "code",
      "source": [
        "# This mounts your Google Drive to the Colab VM.\n",
        "from google.colab import drive\n",
        "drive.mount('/content/drive')\n",
        "\n",
        "# TODO: Enter the foldername in your Drive where you have saved the unzipped\n",
        "# assignment folder, e.g. 'cs231n/assignments/assignment1/'\n",
        "FOLDERNAME = 'training'\n",
        "assert FOLDERNAME is not None, \"[!] Enter the foldername.\"\n",
        "\n",
        "# Now that we've mounted your Drive, this ensures that\n",
        "# the Python interpreter of the Colab VM can load\n",
        "# python files from within it.\n",
        "import sys\n",
        "sys.path.append('/content/drive/My Drive/{}'.format(FOLDERNAME))\n",
        "# sys.path.append('/content/drive/{}')\n",
        "\n",
        "# This downloads the CIFAR-10 dataset to your Drive\n",
        "# if it doesn't already exist.\n",
        "# %cd /content/drive/My\\ Drive/$FOLDERNAME/cs231n/datasets/\n",
        "# !bash get_datasets.sh\n",
        "# %cd /content/drive/My\\ Drive/$FOLDERNAME"
      ],
      "metadata": {
        "colab": {
          "base_uri": "https://localhost:8080/"
        },
        "id": "LkAA3XROg4ID",
        "outputId": "c8423c01-2de7-40e4-da81-83e7bc2b7fe9"
      },
      "execution_count": 2,
      "outputs": [
        {
          "output_type": "stream",
          "name": "stdout",
          "text": [
            "Mounted at /content/drive\n"
          ]
        }
      ]
    },
    {
      "cell_type": "code",
      "source": [
        "%cd /content/drive/My\\ Drive/$FOLDERNAME/\n",
        "# %cd /content/drive/$FOLDERNAME/"
      ],
      "metadata": {
        "colab": {
          "base_uri": "https://localhost:8080/"
        },
        "id": "b8wyqWWpg5yh",
        "outputId": "4274da96-f727-4325-e392-0b019946c52c"
      },
      "execution_count": 3,
      "outputs": [
        {
          "output_type": "stream",
          "name": "stdout",
          "text": [
            "/content/drive/My Drive/training\n"
          ]
        }
      ]
    },
    {
      "cell_type": "code",
      "source": [
        "# !wget https://data.caltech.edu/records/65de6-vp158/files/CUB_200_2011.tgz"
      ],
      "metadata": {
        "id": "ZmSwomk6g965"
      },
      "execution_count": null,
      "outputs": []
    },
    {
      "cell_type": "markdown",
      "source": [
        "## Download Original Dataset"
      ],
      "metadata": {
        "id": "kvEiJqtNhSEA"
      }
    },
    {
      "cell_type": "code",
      "source": [
        "# !tar xvzf CUB_200_2011.tgz"
      ],
      "metadata": {
        "id": "Qmk_iCMvhBYK"
      },
      "execution_count": null,
      "outputs": []
    },
    {
      "cell_type": "code",
      "source": [
        "# !cat CUB_200_2011/README"
      ],
      "metadata": {
        "id": "tfbKQ-HJhCmo"
      },
      "execution_count": null,
      "outputs": []
    },
    {
      "cell_type": "code",
      "source": [
        "# %cd drive/$FOLDERNAME"
      ],
      "metadata": {
        "id": "Zipv6WTghHY6"
      },
      "execution_count": null,
      "outputs": []
    },
    {
      "cell_type": "code",
      "source": [
        "# cd drive/MyDrive/CS682Project"
      ],
      "metadata": {
        "id": "57JUK3dmsAc7"
      },
      "execution_count": null,
      "outputs": []
    },
    {
      "cell_type": "markdown",
      "source": [
        "## Import required libraries"
      ],
      "metadata": {
        "id": "RGxQPBtShjaI"
      }
    },
    {
      "cell_type": "code",
      "source": [
        "%reload_ext autoreload\n",
        "%autoreload 2\n",
        "%matplotlib inline\n",
        "\n",
        "import pandas as pd\n",
        "import numpy as np\n",
        "import torch\n",
        "from pathlib import Path\n",
        "from torch.utils.data import Dataset, DataLoader, ConcatDataset\n",
        "\n",
        "import torch.optim as optim\n",
        "import torch.nn as nn\n",
        "import torch.nn.functional as F\n",
        "from torchvision import models\n",
        "import random\n",
        "import cv2\n",
        "import matplotlib.pyplot as plt\n",
        "import torchvision.transforms as transforms\n"
      ],
      "metadata": {
        "id": "iNss70w9hI3E"
      },
      "execution_count": 4,
      "outputs": []
    },
    {
      "cell_type": "code",
      "source": [
        "import albumentations as A"
      ],
      "metadata": {
        "id": "Sq5aTSmfjBm-"
      },
      "execution_count": 5,
      "outputs": []
    },
    {
      "cell_type": "markdown",
      "source": [
        "## Helper Functions"
      ],
      "metadata": {
        "id": "GRAwB5CjhqzD"
      }
    },
    {
      "cell_type": "markdown",
      "source": [
        "read_image() functions reads image and converts it from BGR to RGB as opencv used BGR while matplotlib uses RGB. So, we need to make this conversion so we can easily visualize the data\n",
        "\n"
      ],
      "metadata": {
        "id": "BtPpAnd_hudK"
      }
    },
    {
      "cell_type": "code",
      "source": [
        "def read_image(path):\n",
        "    im = cv2.imread(str(path))\n",
        "    return cv2.cvtColor(im, cv2.COLOR_BGR2RGB)"
      ],
      "metadata": {
        "id": "HkvyiyZaho30"
      },
      "execution_count": 6,
      "outputs": []
    },
    {
      "cell_type": "code",
      "source": [
        "# Data Augmentation\n",
        "import math\n",
        "\n",
        "def crop(im, r, c, target_r, target_c): return im[r:r+target_r, c:c+target_c]\n",
        "\n",
        "def random_crop(x, target_r, target_c):\n",
        "    \"\"\" Returns a random crop\"\"\"\n",
        "    r,c,*_ = x.shape\n",
        "    rand_r = random.uniform(0, 1)\n",
        "    rand_c = random.uniform(0, 1)\n",
        "    start_r = np.floor(rand_r*(r - target_r)).astype(int)\n",
        "    start_c = np.floor(rand_c*(c - target_c)).astype(int)\n",
        "    return crop(x, start_r, start_c, target_r, target_c)\n",
        "\n",
        "def rotate_cv(im, deg, mode=cv2.BORDER_REFLECT, interpolation=cv2.INTER_AREA):\n",
        "    \"\"\" Rotates an image by deg degrees\"\"\"\n",
        "    r,c,*_ = im.shape\n",
        "    M = cv2.getRotationMatrix2D((c/2,r/2),deg,1)\n",
        "    return cv2.warpAffine(im,M,(c,r), borderMode=mode,\n",
        "                          flags=cv2.WARP_FILL_OUTLIERS+interpolation)\n"
      ],
      "metadata": {
        "id": "Wi_vZtiMhxiv"
      },
      "execution_count": 7,
      "outputs": []
    },
    {
      "cell_type": "code",
      "source": [
        "def normalize(im):\n",
        "    \"\"\"Normalizes images with Imagenet stats.\"\"\"\n",
        "    imagenet_stats = np.array([[0.485, 0.456, 0.406], [0.229, 0.224, 0.225]])\n",
        "    return (im/255.0 - imagenet_stats[0])/imagenet_stats[1]"
      ],
      "metadata": {
        "id": "wGusLTIXkowX"
      },
      "execution_count": 8,
      "outputs": []
    },
    {
      "cell_type": "code",
      "source": [
        "pwd"
      ],
      "metadata": {
        "colab": {
          "base_uri": "https://localhost:8080/",
          "height": 35
        },
        "id": "TEorjzZEFRVe",
        "outputId": "5990765c-82cd-4a75-d79b-6d983e32d642"
      },
      "execution_count": null,
      "outputs": [
        {
          "output_type": "execute_result",
          "data": {
            "text/plain": [
              "'/content/drive/My Drive/training'"
            ],
            "application/vnd.google.colaboratory.intrinsic+json": {
              "type": "string"
            }
          },
          "metadata": {},
          "execution_count": 16
        }
      ]
    },
    {
      "cell_type": "code",
      "source": [
        "PATH = Path('./dataset/CUB_200_2011')\n",
        "labels = pd.read_csv(PATH/\"image_class_labels.txt\", header=None, sep=\" \")\n",
        "labels.columns = [\"id\", \"label\"]\n",
        "train_test = pd.read_csv(PATH/\"train_test_split.txt\", header=None, sep=\" \")\n",
        "train_test.columns = [\"id\", \"is_train\"]\n",
        "images = pd.read_csv(PATH/\"images.txt\", header=None, sep=\" \")\n",
        "images.columns = [\"id\", \"name\"]"
      ],
      "metadata": {
        "id": "sC-hwIz1rCkU"
      },
      "execution_count": 9,
      "outputs": []
    },
    {
      "cell_type": "code",
      "source": [
        "# can change this\n",
        "def apply_transform_crop(x, sz=(224, 224), zoom=1.05):\n",
        "    \"\"\" Applies a random crop, rotation\"\"\"\n",
        "    sz1 = int(zoom*sz[0])\n",
        "    sz2 = int(zoom*sz[1])\n",
        "    x = cv2.resize(x, (sz1, sz2))\n",
        "    x = random_crop(x, sz[1], sz[0])\n",
        "    return x"
      ],
      "metadata": {
        "id": "w2YUFgLXkaGg"
      },
      "execution_count": 10,
      "outputs": []
    },
    {
      "cell_type": "code",
      "source": [
        "# can change this\n",
        "def apply_transform_rotation(x, sz=(224, 224), zoom=1.05):\n",
        "    \"\"\" Applies a random crop, rotation\"\"\"\n",
        "    sz1 = int(zoom*sz[0])\n",
        "    sz2 = int(zoom*sz[1])\n",
        "    x = cv2.resize(x, (sz1, sz2))\n",
        "    x = rotate_cv(x, np.random.uniform(-10,10))\n",
        "    return x"
      ],
      "metadata": {
        "id": "eIVvYWHeJxqm"
      },
      "execution_count": 11,
      "outputs": []
    },
    {
      "cell_type": "code",
      "source": [
        "# # can change this\n",
        "# # class albumentations.augmentations.transforms.ToGray [view source on GitHub] ¶\n",
        "# def apply_transform_rgb(x, sz=(224, 224), zoom=1.05):\n",
        "#     \"\"\" Applies a random crop, rotation\"\"\"\n",
        "#     sz1 = int(zoom*sz[0])\n",
        "#     sz2 = int(zoom*sz[1])\n",
        "#     x = cv2.resize(x, (sz1, sz2))\n",
        "#     transform = A.ToGray()\n",
        "#     # create a transformation\n",
        "#     x = transform(x)\n",
        "#     return x"
      ],
      "metadata": {
        "id": "kVwppDPsMVmn"
      },
      "execution_count": null,
      "outputs": []
    },
    {
      "cell_type": "code",
      "source": [
        "def apply_transform_rgb(x, sz=(224, 224)):\n",
        "    \"\"\"Applies grayscale transformation.\"\"\"\n",
        "    #zoom in function was creating images of varying shape\n",
        "    #wrapped the A.ToGray() transformation inside A.Compose([])\n",
        "    transform = A.Compose([\n",
        "        A.ToGray(),\n",
        "        A.Resize(height=sz[0], width=sz[1])  # Ensure all images are resized to 224x224\n",
        "    ])\n",
        "    #passed the image x to the transform function\n",
        "    augmented = transform(image=x)\n",
        "    #extracted the transformed image from the dictionary returned by the transformation using the key 'image'\n",
        "    x = augmented['image']\n",
        "    return x\n"
      ],
      "metadata": {
        "id": "JwsL3G7FHJLv"
      },
      "execution_count": 12,
      "outputs": []
    },
    {
      "cell_type": "code",
      "source": [
        "class CUBCrop(Dataset):\n",
        "    def __init__(self, files_path, labels, train_test, image_name, train=True,\n",
        "                 transform=False):\n",
        "\n",
        "        self.files_path = files_path\n",
        "        self.original_file_path = files_path\n",
        "        self.labels = labels\n",
        "        self.transform = transform\n",
        "        self.train_test = train_test\n",
        "        self.image_name = image_name\n",
        "\n",
        "        if train:\n",
        "          mask = self.train_test.is_train.values == 1\n",
        "\n",
        "        else:\n",
        "          mask = self.train_test.is_train.values == 0\n",
        "\n",
        "\n",
        "        self.filenames = self.image_name.iloc[mask]\n",
        "        self.labels = self.labels[mask]\n",
        "        self.num_files = self.labels.shape[0]\n",
        "\n",
        "\n",
        "\n",
        "    def __len__(self):\n",
        "        return self.num_files\n",
        "\n",
        "    def __getitem__(self, index):\n",
        "        y = self.labels.iloc[index,1] - 1\n",
        "\n",
        "        file_name = self.filenames.iloc[index, 1]\n",
        "        path = self.files_path/'images'/file_name\n",
        "        x = read_image(path)\n",
        "        x = apply_transform_crop(x)\n",
        "        # After reading and transforming the image:\n",
        "        if x.shape[1:] != (224, 224):\n",
        "          x = cv2.resize(x, (224, 224))\n",
        "        x = normalize(x)\n",
        "\n",
        "        x =  np.rollaxis(x, 2) # To meet torch's input specification(c*H*W)\n",
        "        return x,y"
      ],
      "metadata": {
        "id": "pgQsf6ZrkbZU"
      },
      "execution_count": 13,
      "outputs": []
    },
    {
      "cell_type": "code",
      "source": [
        "class CUBRotate(Dataset):\n",
        "    def __init__(self, files_path, labels, train_test, image_name, train=True,\n",
        "                 transform=False):\n",
        "\n",
        "        self.files_path = files_path\n",
        "        self.labels = labels\n",
        "        self.transform = transform\n",
        "        self.train_test = train_test\n",
        "        self.image_name = image_name\n",
        "\n",
        "        if train:\n",
        "          mask = self.train_test.is_train.values == 1\n",
        "\n",
        "        else:\n",
        "          mask = self.train_test.is_train.values == 0\n",
        "\n",
        "\n",
        "        self.filenames = self.image_name.iloc[mask]\n",
        "        self.labels = self.labels[mask]\n",
        "        self.num_files = self.labels.shape[0]\n",
        "\n",
        "\n",
        "\n",
        "    def __len__(self):\n",
        "        return self.num_files\n",
        "\n",
        "    def __getitem__(self, index):\n",
        "        y = self.labels.iloc[index,1] - 1\n",
        "\n",
        "        file_name = self.filenames.iloc[index, 1]\n",
        "        path = self.files_path/'images'/file_name\n",
        "        x = read_image(path)\n",
        "        x = apply_transform_rotation(x)\n",
        "        x = normalize(x)\n",
        "        # After reading and transforming the image:\n",
        "        if x.shape[1:] != (224, 224):\n",
        "          x = cv2.resize(x, (224, 224))\n",
        "        # we can test this code but it will only be run during the Dataloader call so we have to test it\n",
        "        # new_path = self.files_path/'images_rotated'/file_name[:-4]+'_rotated.jpg'\n",
        "        # cv2.imwrite(new_path, x)\n",
        "        # print(\"writing to path \" + new_path)\n",
        "        x =  np.rollaxis(x, 2) # To meet torch's input specification(c*H*W)\n",
        "        return x,y"
      ],
      "metadata": {
        "id": "4oQdQOD9lcAL"
      },
      "execution_count": 14,
      "outputs": []
    },
    {
      "cell_type": "code",
      "source": [
        "class CUBRGB(Dataset):\n",
        "    def __init__(self, files_path, labels, train_test, image_name, train=True,\n",
        "                 transform=False):\n",
        "\n",
        "        self.files_path = files_path\n",
        "        self.labels = labels\n",
        "        self.transform = transform\n",
        "        self.train_test = train_test\n",
        "        self.image_name = image_name\n",
        "\n",
        "        if train:\n",
        "          mask = self.train_test.is_train.values == 1\n",
        "\n",
        "        else:\n",
        "          mask = self.train_test.is_train.values == 0\n",
        "\n",
        "\n",
        "        self.filenames = self.image_name.iloc[mask]\n",
        "        self.labels = self.labels[mask]\n",
        "        self.num_files = self.labels.shape[0]\n",
        "\n",
        "\n",
        "\n",
        "    def __len__(self):\n",
        "        return self.num_files\n",
        "\n",
        "    def __getitem__(self, index):\n",
        "        y = self.labels.iloc[index,1] - 1\n",
        "\n",
        "        file_name = self.filenames.iloc[index, 1]\n",
        "        path = self.files_path/'images'/file_name\n",
        "        x = read_image(path)\n",
        "        x = apply_transform_rgb(x)\n",
        "        # After reading and transforming the image:\n",
        "        if x.shape[1:] != (224, 224):\n",
        "          x = cv2.resize(x, (224, 224))\n",
        "        x = normalize(x)\n",
        "        x =  np.rollaxis(x, 2) # To meet torch's input specification(c*H*W)\n",
        "        return x,y"
      ],
      "metadata": {
        "id": "g9tK721ElgOf"
      },
      "execution_count": 15,
      "outputs": []
    },
    {
      "cell_type": "code",
      "source": [
        "class CUB(Dataset):\n",
        "    def __init__(self, files_path, labels, train_test, image_name, train=True,\n",
        "                 transform=False):\n",
        "\n",
        "        self.files_path = files_path\n",
        "        self.labels = labels\n",
        "        self.transform = transform\n",
        "        self.train_test = train_test\n",
        "        self.image_name = image_name\n",
        "\n",
        "        if train:\n",
        "          mask = self.train_test.is_train.values == 1\n",
        "\n",
        "        else:\n",
        "          mask = self.train_test.is_train.values == 0\n",
        "\n",
        "\n",
        "        self.filenames = self.image_name.iloc[mask]\n",
        "        self.labels = self.labels[mask]\n",
        "        self.num_files = self.labels.shape[0]\n",
        "\n",
        "\n",
        "\n",
        "    def __len__(self):\n",
        "        return self.num_files\n",
        "\n",
        "    def __getitem__(self, index):\n",
        "        y = self.labels.iloc[index,1] - 1\n",
        "\n",
        "        file_name = self.filenames.iloc[index, 1]\n",
        "        path = self.files_path/'images'/file_name\n",
        "        x = read_image(path)\n",
        "        x = cv2.resize(x, (224,224))\n",
        "        x = normalize(x)\n",
        "        x =  np.rollaxis(x, 2) # To meet torch's input specification(c*H*W)\n",
        "        return x,y"
      ],
      "metadata": {
        "id": "KmaL2iybk0Z3"
      },
      "execution_count": 16,
      "outputs": []
    },
    {
      "cell_type": "code",
      "source": [
        "train_dataset = CUB(PATH, labels, train_test, images, train= True, transform= True)\n",
        "baseline_train_loader = DataLoader(train_dataset, batch_size=64, shuffle=True, num_workers=2)\n",
        "# small_train_dataset = torch.utils.data.Subset(train_dataset, range(0, 500))\n",
        "# small_train_loader = DataLoader(small_train_dataset, batch_size=64, shuffle=True, num_workers=2)"
      ],
      "metadata": {
        "id": "4cMB8j_DlKMp"
      },
      "execution_count": 17,
      "outputs": []
    },
    {
      "cell_type": "code",
      "source": [
        "val_dataset = CUB(PATH, labels, train_test, images, train= False, transform= True)\n",
        "baseline_val_loader = DataLoader(val_dataset, batch_size=64, shuffle=True, num_workers=2)\n",
        "# small_val_dataset = torch.utils.data.Subset(val_dataset, range(0, 500))\n",
        "# small_val_loader = DataLoader(small_val_dataset, batch_size=64, shuffle=True, num_workers=2)"
      ],
      "metadata": {
        "id": "bWrhBv9l-zAE"
      },
      "execution_count": 18,
      "outputs": []
    },
    {
      "cell_type": "code",
      "source": [
        "train_dataset_cropped = CUBCrop(PATH, labels, train_test, images, train= False, transform= True)\n",
        "concat_train_cropped = ConcatDataset((train_dataset, train_dataset_cropped))\n",
        "cropped_train_loader = DataLoader(concat_train_cropped, batch_size=64, shuffle=True, num_workers=2)\n"
      ],
      "metadata": {
        "id": "CI7BmMPelLhW"
      },
      "execution_count": 19,
      "outputs": []
    },
    {
      "cell_type": "code",
      "source": [
        "train_dataset_rotated = CUBRotate(PATH, labels, train_test, images, train= False, transform= True)\n",
        "concat_train_rotated = ConcatDataset((train_dataset,train_dataset_rotated))\n",
        "rotate_train_loader = DataLoader(concat_train_rotated, batch_size=64, shuffle=True, num_workers=2)\n"
      ],
      "metadata": {
        "id": "5AC6MQQLgxba"
      },
      "execution_count": 20,
      "outputs": []
    },
    {
      "cell_type": "code",
      "source": [
        "train_dataset_gray = CUBRGB(PATH, labels, train_test, images, train= False, transform= True)\n",
        "concat_train_gray = ConcatDataset((train_dataset, train_dataset_gray))\n",
        "gray_train_loader = DataLoader(concat_train_gray, batch_size=64, shuffle=True, num_workers=2)"
      ],
      "metadata": {
        "id": "zfJAck0Qg_gl"
      },
      "execution_count": 21,
      "outputs": []
    },
    {
      "cell_type": "code",
      "source": [
        "# concat_train_dataset = ConcatDataset((train_dataset, train_dataset_cropped, train_dataset_rotated, train_dataset_gray))\n",
        "# augmented_train_loader = DataLoader(concat_train_dataset, batch_size=64, shuffle=True, num_workers=2)"
      ],
      "metadata": {
        "id": "DnFHs9Pqmh8a"
      },
      "execution_count": null,
      "outputs": []
    },
    {
      "cell_type": "code",
      "source": [
        "print(len(train_dataset),len(concat_train_cropped),len(concat_train_rotated),len(concat_train_gray))"
      ],
      "metadata": {
        "colab": {
          "base_uri": "https://localhost:8080/"
        },
        "id": "c_1c5GtPGfiL",
        "outputId": "f7fbedff-f20f-4847-b3d7-201ed7500ab1"
      },
      "execution_count": 22,
      "outputs": [
        {
          "output_type": "stream",
          "name": "stdout",
          "text": [
            "5994 11788 11788 11788\n"
          ]
        }
      ]
    },
    {
      "cell_type": "code",
      "source": [
        "pwd"
      ],
      "metadata": {
        "colab": {
          "base_uri": "https://localhost:8080/",
          "height": 35
        },
        "id": "FaY76FDV5D6i",
        "outputId": "aa315543-9848-491f-d0ef-3a87d58e296c"
      },
      "execution_count": 23,
      "outputs": [
        {
          "output_type": "execute_result",
          "data": {
            "text/plain": [
              "'/content/drive/MyDrive/training'"
            ],
            "application/vnd.google.colaboratory.intrinsic+json": {
              "type": "string"
            }
          },
          "metadata": {},
          "execution_count": 23
        }
      ]
    },
    {
      "cell_type": "code",
      "source": [
        "# Function for calculating metrics\n",
        "def metrics(model, dataloader):\n",
        "    model.eval()\n",
        "    correct = 0\n",
        "    total = 0\n",
        "    sum_loss = 0\n",
        "    with torch.no_grad():\n",
        "        for inputs, labels in dataloader:\n",
        "            inputs, labels = inputs.to(device).float(), labels.to(device).long()\n",
        "            outputs = model(inputs)\n",
        "            loss = criterion(outputs, labels)\n",
        "            _, pred = torch.max(outputs, 1)\n",
        "            correct += (pred == labels).sum().item()\n",
        "            total += labels.size(0)\n",
        "            sum_loss += loss.item() * labels.size(0)\n",
        "    return sum_loss / total, correct / total"
      ],
      "metadata": {
        "id": "95J_WPi63L36"
      },
      "execution_count": 24,
      "outputs": []
    },
    {
      "cell_type": "code",
      "source": [
        "# Check for available CUDA\n",
        "device = torch.device(\"cuda\" if torch.cuda.is_available() else \"cpu\")"
      ],
      "metadata": {
        "id": "vTrTJKR43N1K"
      },
      "execution_count": 25,
      "outputs": []
    },
    {
      "cell_type": "code",
      "source": [
        "def get_model_instance(device,learning_rate, momentum_value):\n",
        "\n",
        "  # Model Architecture\n",
        "  resnet50 = models.resnet50(pretrained=True).to(device)\n",
        "\n",
        "  # Freeze layers\n",
        "  for param in resnet50.parameters():\n",
        "      param.requires_grad = False\n",
        "\n",
        "  num_of_classes = len(np.unique(train_dataset.labels['label']))\n",
        "\n",
        "  # Modify last layer\n",
        "  num_ftrs = resnet50.fc.in_features\n",
        "  resnet50.fc = nn.Linear(num_ftrs, num_of_classes).to(device)\n",
        "\n",
        "  # Loss and Optimizer\n",
        "  criterion = nn.CrossEntropyLoss()\n",
        "  optimizer = optim.SGD(resnet50.fc.parameters(), lr=learning_rate, momentum=momentum_value)\n",
        "\n",
        "\n",
        "  return resnet50, criterion, optimizer\n"
      ],
      "metadata": {
        "id": "nEJ9ockogkMl"
      },
      "execution_count": 26,
      "outputs": []
    },
    {
      "cell_type": "code",
      "source": [
        "# Initialize lists to store metrics\n",
        "# train_losses = []\n",
        "# val_losses = []\n",
        "# train_accuracy = []\n",
        "# val_accuracy = []\n",
        "\n",
        "# # Model Architecture\n",
        "# resnet50 = models.resnet50(pretrained=True).to(device)\n",
        "\n",
        "# # Freeze layers\n",
        "# for param in resnet50.parameters():\n",
        "#     param.requires_grad = False\n",
        "\n",
        "# num_of_classes = len(np.unique(train_dataset.labels['label']))\n",
        "\n",
        "# # Modify last layer\n",
        "# num_ftrs = resnet50.fc.in_features\n",
        "# resnet50.fc = nn.Linear(num_ftrs, num_of_classes).to(device)\n",
        "\n",
        "# # Loss and Optimizer\n",
        "# criterion = nn.CrossEntropyLoss()\n",
        "# optimizer = optim.SGD(resnet50.fc.parameters(), lr=0.001, momentum=0.9)\n"
      ],
      "metadata": {
        "id": "fK20tNH_3QNV"
      },
      "execution_count": 27,
      "outputs": []
    },
    {
      "cell_type": "code",
      "source": [
        "def train_model(model, model_name, data_loader, optimizer, criterion, num_epochs):\n",
        "    # Initialize lists to store metrics for each epoch\n",
        "    train_losses = []\n",
        "    train_accuracy = []\n",
        "    val_losses = []\n",
        "    val_accuracy = []\n",
        "\n",
        "    for epoch in range(num_epochs):\n",
        "        model.train()\n",
        "        for inputs, labels in data_loader:\n",
        "            inputs, labels = inputs.to(device).float(), labels.to(device).long()\n",
        "            optimizer.zero_grad()\n",
        "            outputs = model(inputs)\n",
        "            loss = criterion(outputs, labels)\n",
        "            loss.backward()\n",
        "            optimizer.step()\n",
        "\n",
        "        # Training metrics\n",
        "        train_loss, train_acc = metrics(model, data_loader)\n",
        "        train_losses.append(train_loss)\n",
        "        train_accuracy.append(train_acc)\n",
        "\n",
        "        # Validation metrics\n",
        "        val_loss, val_acc = metrics(model, baseline_val_loader)\n",
        "        val_losses.append(val_loss)\n",
        "        val_accuracy.append(val_acc)\n",
        "\n",
        "        print(f'Epoch {epoch+1}, Train Loss: {train_loss}, Train Acc: {train_acc}, Val Loss: {val_loss}, Val Acc: {val_acc}')\n",
        "\n",
        "    # Save the model with a specific name based on the dataset\n",
        "    model_save_path = f'./model_weights/{model_name}.pth'\n",
        "    torch.save(model.state_dict(), model_save_path)\n",
        "\n",
        "    # Create a dictionary for the metrics\n",
        "    metrics_dict = {\n",
        "        'train_loss': train_losses,\n",
        "        'train_accuracy': train_accuracy,\n",
        "        'val_loss': val_losses,\n",
        "        'val_accuracy': val_accuracy\n",
        "    }\n",
        "\n",
        "    return metrics_dict, model_save_path\n",
        "\n",
        "\n"
      ],
      "metadata": {
        "id": "AwMXsyWg6tgi"
      },
      "execution_count": 29,
      "outputs": []
    },
    {
      "cell_type": "code",
      "source": [
        "histories = {}\n",
        "\n",
        "datasets = {\n",
        "    'cubcrop': cropped_train_loader,\n",
        "    'cubrotate': rotate_train_loader,\n",
        "    'cubgray': gray_train_loader,\n",
        "    'baseline': baseline_train_loader\n",
        "}\n",
        "\n",
        "model_name_base = \"resnet50_\"\n",
        "lr = 0.001\n",
        "momentum=0.9\n",
        "epochs=10\n",
        "for name, data_loader in datasets.items():\n",
        "    print(f\"Training on {name} dataset\")\n",
        "    model_name = f\"{model_name_base}_{name}\"\n",
        "    model,criterion, optimizer = get_model_instance(device,lr, momentum)  # Function to get a new model instance\n",
        "    history,model_save_path = train_model(model, model_name, data_loader, optimizer, criterion, epochs)\n",
        "    histories[name] = history\n",
        "    print(f\"Model saved to {model_save_path}\")\n"
      ],
      "metadata": {
        "colab": {
          "base_uri": "https://localhost:8080/"
        },
        "id": "XEexNE-niWTd",
        "outputId": "51d4c03d-21ec-4f1a-8283-31d256491479"
      },
      "execution_count": 33,
      "outputs": [
        {
          "output_type": "stream",
          "name": "stdout",
          "text": [
            "Training on cubcrop dataset\n"
          ]
        },
        {
          "output_type": "stream",
          "name": "stderr",
          "text": [
            "/usr/local/lib/python3.10/dist-packages/torchvision/models/_utils.py:208: UserWarning: The parameter 'pretrained' is deprecated since 0.13 and may be removed in the future, please use 'weights' instead.\n",
            "  warnings.warn(\n",
            "/usr/local/lib/python3.10/dist-packages/torchvision/models/_utils.py:223: UserWarning: Arguments other than a weight enum or `None` for 'weights' are deprecated since 0.13 and may be removed in the future. The current behavior is equivalent to passing `weights=ResNet50_Weights.IMAGENET1K_V1`. You can also use `weights=ResNet50_Weights.DEFAULT` to get the most up-to-date weights.\n",
            "  warnings.warn(msg)\n"
          ]
        },
        {
          "output_type": "stream",
          "name": "stdout",
          "text": [
            "Epoch 1, Train Loss: 4.863049203110906, Train Acc: 0.13632507634882932, Val Loss: 4.86220257126713, Val Acc: 0.1330686917500863\n",
            "Epoch 2, Train Loss: 4.440719315347972, Train Acc: 0.30446216491347133, Val Loss: 4.440444566399466, Val Acc: 0.30255436658612356\n",
            "Epoch 3, Train Loss: 4.086380818596443, Train Acc: 0.41126569392602647, Val Loss: 4.085371525813515, Val Acc: 0.40731791508457027\n",
            "Epoch 4, Train Loss: 3.7645784819939196, Train Acc: 0.45673566338649474, Val Loss: 3.766980701205563, Val Acc: 0.4523645150155333\n",
            "Epoch 5, Train Loss: 3.4887260498335535, Train Acc: 0.5110281642348151, Val Loss: 3.4918138191623442, Val Acc: 0.5077666551605109\n",
            "Epoch 6, Train Loss: 3.240931564239797, Train Acc: 0.5420766881574482, Val Loss: 3.24652242841579, Val Acc: 0.5331377286848464\n",
            "Epoch 7, Train Loss: 3.045194466558197, Train Acc: 0.575924669155073, Val Loss: 3.0539706318716697, Val Acc: 0.5686917500862961\n",
            "Epoch 8, Train Loss: 2.8772407327217695, Train Acc: 0.5988293179504581, Val Loss: 2.8863831552341557, Val Acc: 0.587849499482223\n",
            "Epoch 9, Train Loss: 2.7141895659867084, Train Acc: 0.6163047166610112, Val Loss: 2.725521061722476, Val Acc: 0.6049361408353469\n",
            "Epoch 10, Train Loss: 2.56566023745697, Train Acc: 0.6300475059382423, Val Loss: 2.57924416174673, Val Acc: 0.6204694511563686\n",
            "Model saved to ./model_weights/resnet50__cubcrop.pth\n",
            "Training on cubrotate dataset\n",
            "Epoch 1, Train Loss: 4.892086460584699, Train Acc: 0.10875466576179166, Val Loss: 4.878979089879809, Val Acc: 0.10700724887814982\n",
            "Epoch 2, Train Loss: 4.493031311002795, Train Acc: 0.2829996606718697, Val Loss: 4.473031905671009, Val Acc: 0.2823610631687953\n",
            "Epoch 3, Train Loss: 4.13321636440716, Train Acc: 0.3714794706481167, Val Loss: 4.104145644901949, Val Acc: 0.377114256127028\n",
            "Epoch 4, Train Loss: 3.8555282010925316, Train Acc: 0.44681031557516115, Val Loss: 3.8237113063813575, Val Acc: 0.45115636865723163\n",
            "Epoch 5, Train Loss: 3.562255523388451, Train Acc: 0.494740413980319, Val Loss: 3.5238907484502926, Val Acc: 0.4987918536416983\n",
            "Epoch 6, Train Loss: 3.346559669270045, Train Acc: 0.5236681370885646, Val Loss: 3.3079696750904226, Val Acc: 0.5182947877114256\n",
            "Epoch 7, Train Loss: 3.1376995871258786, Train Acc: 0.5564981336952833, Val Loss: 3.0939910989569763, Val Acc: 0.5585088022091819\n",
            "Epoch 8, Train Loss: 2.9497664939924384, Train Acc: 0.5690532745164574, Val Loss: 2.9051749965508393, Val Acc: 0.5661028650327925\n",
            "Epoch 9, Train Loss: 2.812416736417032, Train Acc: 0.5963691890057686, Val Loss: 2.771658538496408, Val Acc: 0.5923369002416292\n",
            "Epoch 10, Train Loss: 2.666172276038334, Train Acc: 0.6106209704784527, Val Loss: 2.624796259349735, Val Acc: 0.6056265101829479\n",
            "Model saved to ./model_weights/resnet50__cubrotate.pth\n",
            "Training on cubgray dataset\n",
            "Epoch 1, Train Loss: 4.931679823376746, Train Acc: 0.10519172039362062, Val Loss: 4.902566352465007, Val Acc: 0.11908871246116673\n",
            "Epoch 2, Train Loss: 4.576579903278021, Train Acc: 0.2313369528333899, Val Loss: 4.527190694654239, Val Acc: 0.2632033137728685\n",
            "Epoch 3, Train Loss: 4.270056382332327, Train Acc: 0.32719714964370544, Val Loss: 4.20028489048332, Val Acc: 0.36123576113220573\n",
            "Epoch 4, Train Loss: 3.979201451131033, Train Acc: 0.3971835765184934, Val Loss: 3.892181580174492, Val Acc: 0.4408008284432171\n",
            "Epoch 5, Train Loss: 3.7376444393147605, Train Acc: 0.4373939599592806, Val Loss: 3.6359044734387305, Val Acc: 0.48740075940628236\n",
            "Epoch 6, Train Loss: 3.5512591080621903, Train Acc: 0.4574143196470987, Val Loss: 3.437115037527667, Val Acc: 0.505005177770107\n",
            "Epoch 7, Train Loss: 3.355286152839337, Train Acc: 0.49015948422124195, Val Loss: 3.2309528575669413, Val Acc: 0.5377977217811529\n",
            "Epoch 8, Train Loss: 3.1958164639662274, Train Acc: 0.503732609433322, Val Loss: 3.062669776413496, Val Acc: 0.5573006558508802\n",
            "Epoch 9, Train Loss: 3.0517630361887735, Train Acc: 0.5251102816423482, Val Loss: 2.9105123574049836, Val Acc: 0.5800828443217121\n",
            "Epoch 10, Train Loss: 2.908497501641239, Train Acc: 0.5485239226331863, Val Loss: 2.758868471276649, Val Acc: 0.603555402140145\n",
            "Model saved to ./model_weights/resnet50__cubgray.pth\n",
            "Training on baseline dataset\n",
            "Epoch 1, Train Loss: 5.079642268948687, Train Acc: 0.05538872205538872, Val Loss: 5.101606516332762, Val Acc: 0.04953400069036935\n",
            "Epoch 2, Train Loss: 4.82769555873699, Train Acc: 0.17417417417417416, Val Loss: 4.878298663171275, Val Acc: 0.13979979288919572\n",
            "Epoch 3, Train Loss: 4.591242849886477, Train Acc: 0.29262595929262597, Val Loss: 4.671045922887378, Val Acc: 0.22160856057991024\n",
            "Epoch 4, Train Loss: 4.373544924808893, Train Acc: 0.3793793793793794, Val Loss: 4.48008549340972, Val Acc: 0.27304107697618224\n",
            "Epoch 5, Train Loss: 4.172606231930019, Train Acc: 0.43860527193860527, Val Loss: 4.306508797055325, Val Acc: 0.32274767000345184\n",
            "Epoch 6, Train Loss: 3.9835314015607097, Train Acc: 0.498998998998999, Val Loss: 4.142840280095009, Val Acc: 0.3648602002071108\n",
            "Epoch 7, Train Loss: 3.8039880114712235, Train Acc: 0.5330330330330331, Val Loss: 3.988666048369245, Val Acc: 0.3826372109078357\n",
            "Epoch 8, Train Loss: 3.6416957850133254, Train Acc: 0.5545545545545546, Val Loss: 3.851084660364506, Val Acc: 0.3909216430790473\n",
            "Epoch 9, Train Loss: 3.488958687793425, Train Acc: 0.5715715715715716, Val Loss: 3.725323295938915, Val Acc: 0.4107697618225751\n",
            "Epoch 10, Train Loss: 3.348669060079265, Train Acc: 0.6031031031031031, Val Loss: 3.6069683923283486, Val Acc: 0.4311356575768036\n",
            "Model saved to ./model_weights/resnet50__baseline.pth\n"
          ]
        }
      ]
    },
    {
      "cell_type": "code",
      "source": [
        "import pandas as pd\n",
        "\n",
        "df = pd.DataFrame()\n",
        "for name, history in histories.items():\n",
        "    temp_df = pd.DataFrame(history)\n",
        "    temp_df['dataset'] = name\n",
        "    temp_df['epoch'] = range(1, len(temp_df) + 1)  # Adding the epoch column\n",
        "    df = pd.concat([df, temp_df], ignore_index=True)\n",
        "\n"
      ],
      "metadata": {
        "id": "59_ujedIjInv"
      },
      "execution_count": 34,
      "outputs": []
    },
    {
      "cell_type": "code",
      "source": [
        "import seaborn as sns\n",
        "import matplotlib.pyplot as plt\n",
        "\n",
        "sns.lineplot(data=df, x='epoch', y='train_accuracy', hue='dataset')  # Note: change 'train_acc' to 'train_accuracy'\n",
        "plt.title('Training Accuracy Comparison')\n",
        "plt.show()\n",
        "\n",
        "sns.lineplot(data=df, x='epoch', y='val_accuracy', hue='dataset')  # Note: change 'val_acc' to 'val_accuracy'\n",
        "plt.title('Validation Accuracy Comparison')\n",
        "plt.show()\n"
      ],
      "metadata": {
        "colab": {
          "base_uri": "https://localhost:8080/",
          "height": 927
        },
        "id": "QK8YmB-zjKnf",
        "outputId": "2995d322-6d61-424c-b3be-f2bf50c7dfa0"
      },
      "execution_count": 35,
      "outputs": [
        {
          "output_type": "display_data",
          "data": {
            "text/plain": [
              "<Figure size 640x480 with 1 Axes>"
            ],
            "image/png": "[encoded data removed]"
          },
          "metadata": {}
        },
        {
          "output_type": "display_data",
          "data": {
            "text/plain": [
              "<Figure size 640x480 with 1 Axes>"
            ],
            "image/png": "[encoded data removed]"
          },
          "metadata": {}
        }
      ]
    },
    {
      "cell_type": "markdown",
      "source": [
        "Define Model(ResNet50)."
      ],
      "metadata": {
        "id": "8Htna7few-JJ"
      }
    },
    {
      "cell_type": "code",
      "source": [
        "class AverageMeter(object):\n",
        "    \"\"\"Computes and stores the average and current value\"\"\"\n",
        "    def __init__(self):\n",
        "        self.reset()\n",
        "\n",
        "    def reset(self):\n",
        "        self.val = 0\n",
        "        self.avg = 0\n",
        "        self.sum = 0\n",
        "        self.count = 0\n",
        "\n",
        "    def update(self, val, n=1):\n",
        "        self.val = val\n",
        "        self.sum += val * n\n",
        "        self.count += n\n",
        "        self.avg = self.sum / self.count"
      ],
      "metadata": {
        "id": "NFbQxppLXh7k"
      },
      "execution_count": 36,
      "outputs": []
    },
    {
      "cell_type": "code",
      "source": [
        "def accuracy(output, target, topk=(1,)):\n",
        "    \"\"\"Computes the precision@k for the specified values of k\"\"\"\n",
        "    #with torch.no_grad():\n",
        "    maxk = max(topk)\n",
        "    batch_size = target.size(0)\n",
        "\n",
        "    _, pred = output.topk(maxk, 1, True, True)\n",
        "    pred = pred.t()\n",
        "    correct = pred.eq(target.view(1, -1).expand_as(pred))\n",
        "\n",
        "    res = []\n",
        "    for k in topk:\n",
        "        # correct_k = correct[:k].view(-1).float().sum(0, keepdim=True)\n",
        "        correct_k = correct[:k].reshape(-1).float().sum(0, keepdim=True)\n",
        "\n",
        "        res.append(correct_k.mul_(100.0 / batch_size))\n",
        "    return res"
      ],
      "metadata": {
        "id": "2nB5SWCoXgPt"
      },
      "execution_count": 37,
      "outputs": []
    },
    {
      "cell_type": "code",
      "source": [
        "def calc_accuracy(model, dataloader):\n",
        "    model.eval()\n",
        "    model.cuda()\n",
        "\n",
        "    top1 = AverageMeter()\n",
        "    top5 = AverageMeter()\n",
        "\n",
        "    for idx, (inputs, labels) in enumerate(dataloader):\n",
        "\n",
        "        inputs, labels = inputs.cuda().float(), labels.cuda().long()\n",
        "        # obtain the outputs from the model\n",
        "        outputs = model.forward(inputs)\n",
        "        prec1, prec5 = accuracy(outputs, labels, topk=(1, 5))\n",
        "        top1.update(prec1[0], inputs.size(0))\n",
        "        top5.update(prec5[0], inputs.size(0))\n",
        "\n",
        "    return top1 ,top5"
      ],
      "metadata": {
        "id": "pEUWk7IxXd4c"
      },
      "execution_count": 38,
      "outputs": []
    },
    {
      "cell_type": "code",
      "source": [
        "num_of_classes=200"
      ],
      "metadata": {
        "id": "huINgaa1Yuod"
      },
      "execution_count": 40,
      "outputs": []
    },
    {
      "cell_type": "code",
      "source": [
        "model_name_base = \"resnet50_\"\n",
        "lr = 0.001\n",
        "momentum=0.9\n",
        "epochs=10\n",
        "for name, data_loader in datasets.items():\n",
        "    print(f\"Training on {name} dataset\")\n",
        "    model_name = f\"{model_name_base}_{name}\"\n",
        "    resnet50 = models.resnet50(pretrained=False)\n",
        "    num_ftrs = resnet50.fc.in_features\n",
        "    resnet50.fc = nn.Linear(num_ftrs, num_of_classes)  # Replace with your number of classes\n",
        "    resnet50.load_state_dict(torch.load(f\"./model_weights/{model_name}.pth\"))\n",
        "    # Move to appropriate device\n",
        "    device = torch.device('cuda' if torch.cuda.is_available() else 'cpu')\n",
        "    resnet50 = resnet50.to(device)\n",
        "\n",
        "    # Set to evaluation mode\n",
        "    resnet50.eval()\n",
        "    # Run inference\n",
        "    print(model_name)\n",
        "    top1 ,top5 = calc_accuracy(resnet50, baseline_val_loader)\n",
        "    print(\"top1 avg\", top1.avg)\n",
        "    print(\"top5 avg\",top5.avg)\n",
        "\n"
      ],
      "metadata": {
        "colab": {
          "base_uri": "https://localhost:8080/"
        },
        "id": "OIU1DOp3X9aN",
        "outputId": "c6d12358-1105-41d7-f759-88695a721723"
      },
      "execution_count": 41,
      "outputs": [
        {
          "output_type": "stream",
          "name": "stdout",
          "text": [
            "Training on cubcrop dataset\n"
          ]
        },
        {
          "output_type": "stream",
          "name": "stderr",
          "text": [
            "/usr/local/lib/python3.10/dist-packages/torchvision/models/_utils.py:208: UserWarning: The parameter 'pretrained' is deprecated since 0.13 and may be removed in the future, please use 'weights' instead.\n",
            "  warnings.warn(\n",
            "/usr/local/lib/python3.10/dist-packages/torchvision/models/_utils.py:223: UserWarning: Arguments other than a weight enum or `None` for 'weights' are deprecated since 0.13 and may be removed in the future. The current behavior is equivalent to passing `weights=None`.\n",
            "  warnings.warn(msg)\n"
          ]
        },
        {
          "output_type": "stream",
          "name": "stdout",
          "text": [
            "resnet50__cubcrop\n",
            "top1 avg tensor(62.0469, device='cuda:0')\n",
            "top5 avg tensor(87.9358, device='cuda:0')\n",
            "Training on cubrotate dataset\n",
            "resnet50__cubrotate\n",
            "top1 avg tensor(60.5626, device='cuda:0')\n",
            "top5 avg tensor(88.0048, device='cuda:0')\n",
            "Training on cubgray dataset\n",
            "resnet50__cubgray\n",
            "top1 avg tensor(60.3555, device='cuda:0')\n",
            "top5 avg tensor(86.7276, device='cuda:0')\n",
            "Training on baseline dataset\n",
            "resnet50__baseline\n",
            "top1 avg tensor(43.1136, device='cuda:0')\n",
            "top5 avg tensor(74.3528, device='cuda:0')\n"
          ]
        }
      ]
    },
    {
      "cell_type": "markdown",
      "source": [
        "Validation Metric"
      ],
      "metadata": {
        "id": "DdXhMDVg1nUC"
      }
    }
  ]
}